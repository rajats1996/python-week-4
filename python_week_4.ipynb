{
  "nbformat": 4,
  "nbformat_minor": 0,
  "metadata": {
    "colab": {
      "provenance": []
    },
    "kernelspec": {
      "name": "python3",
      "display_name": "Python 3"
    },
    "language_info": {
      "name": "python"
    }
  },
  "cells": [
    {
      "cell_type": "code",
      "execution_count": null,
      "metadata": {
        "id": "-M2glk3gx6-t"
      },
      "outputs": [],
      "source": [
        "# Theory Questions"
      ]
    },
    {
      "cell_type": "markdown",
      "source": [
        "1. What is Object-Oriented Programming (OOP)?\n",
        "\n",
        "\n",
        "Answer - OOP is a programming paradigm based on objects and classes, promoting modularity, code reuse, and real-world modelling."
      ],
      "metadata": {
        "id": "Sp_bqOTFy5Ip"
      }
    },
    {
      "cell_type": "markdown",
      "source": [
        "2. What is a class in OOP?\n",
        "\n",
        "\n",
        "Answer - A class is a blueprint for creating objects, defining attributes (variables) and behaviours (methods)."
      ],
      "metadata": {
        "id": "mzTSheP_y-Qo"
      }
    },
    {
      "cell_type": "markdown",
      "source": [
        "3. What is an object in OOP?\n",
        "\n",
        "\n",
        "Answer - An object is an instance of a class with its own unique data and functionality."
      ],
      "metadata": {
        "id": "EYkn3ouezK4e"
      }
    },
    {
      "cell_type": "markdown",
      "source": [
        "4. What is the difference between abstraction and encapsulation?\n",
        "\n",
        "\n",
        "Answer - Abstraction: Hides implementation details and shows only the necessary features (e.g., using interfaces).\n",
        "Encapsulation: Restricts direct access to data by binding variables and methods inside a class (e.g., using private variables)."
      ],
      "metadata": {
        "id": "d6b09FJPzRA1"
      }
    },
    {
      "cell_type": "markdown",
      "source": [
        "5. What are dunder methods in Python?\n",
        "\n",
        "\n",
        "Answer - Special methods with double underscores (__) used for operator overloading and custom class behaviour (e.g., __init__, __str__)."
      ],
      "metadata": {
        "id": "AQXL1HQdzd0E"
      }
    },
    {
      "cell_type": "markdown",
      "source": [
        "6. Explain the concept of inheritance in OOP.\n",
        "\n",
        "\n",
        "Answer - Inheritance allows a class (child) to acquire properties and methods from another class (parent), promoting code reuse."
      ],
      "metadata": {
        "id": "x3CEuf-P5pv6"
      }
    },
    {
      "cell_type": "markdown",
      "source": [
        "7. What is polymorphism in OOP?\n",
        "\n",
        "\n",
        "Answer - The ability of different classes to be treated as instances of the same interface, allowing method overriding and operator overloading."
      ],
      "metadata": {
        "id": "ieJ2xhLH6CO0"
      }
    },
    {
      "cell_type": "markdown",
      "source": [
        "8. How is encapsulation achieved in Python?\n",
        "\n",
        "\n",
        "Answer - Using private (__variable), protected (_variable), and public attributes with getter and setter methods.\n",
        "\n"
      ],
      "metadata": {
        "id": "K_voLDS16Iec"
      }
    },
    {
      "cell_type": "markdown",
      "source": [
        "9. What is a constructor in Python?\n",
        "\n",
        "\n",
        "Answer - The __init__ method, automatically called when an object is created, initializing attributes."
      ],
      "metadata": {
        "id": "lBXBakj37adS"
      }
    },
    {
      "cell_type": "markdown",
      "source": [
        "10. What are class and static methods in Python?\n",
        "\n",
        "\n",
        "Answer - Class Method (@classmethod): Operates on class-level attributes and uses cls as the first parameter.\n",
        "Static Method (@staticmethod): Independent of the instance or class and does not use self or cls."
      ],
      "metadata": {
        "id": "IqkqOr5I7dzJ"
      }
    },
    {
      "cell_type": "markdown",
      "source": [
        "11. What is method overloading in Python?\n",
        "\n",
        "\n",
        "Answer - Python does not support traditional method overloading, but it can be mimicked using default arguments or *args.\n"
      ],
      "metadata": {
        "id": "mv8CCrTN7ee-"
      }
    },
    {
      "cell_type": "markdown",
      "source": [
        "12. What is method overriding in OOP?\n",
        "\n",
        "\n",
        "Answer - When a subclass redefines a method from its parent class to provide a different implementation.\n",
        "\n"
      ],
      "metadata": {
        "id": "p5GTTuhp7ouJ"
      }
    },
    {
      "cell_type": "markdown",
      "source": [
        "13. What is a property decorator in Python?\n",
        "\n",
        "\n",
        "Answer - The @property decorator allows a method to be accessed like an attribute, providing controlled access.\n",
        "\n"
      ],
      "metadata": {
        "id": "tl5mD-Ee7rG3"
      }
    },
    {
      "cell_type": "markdown",
      "source": [
        "\n",
        "14. Why is polymorphism important in OOP?\n",
        "\n",
        "\n",
        "Answer - It enhances code flexibility, reusability, and scalability by allowing a unified interface for different data types."
      ],
      "metadata": {
        "id": "QrqY8peP7s7h"
      }
    },
    {
      "cell_type": "markdown",
      "source": [
        "15. What is an abstract class in Python?\n",
        "\n",
        "\n",
        "Answer - A class that cannot be instantiated and contains at least one abstract method (defined using ABC module)."
      ],
      "metadata": {
        "id": "JXXYe8YY7t5A"
      }
    },
    {
      "cell_type": "markdown",
      "source": [
        "16. What are the advantages of OOP?\n",
        "\n",
        "\n",
        "Answer -\n",
        "Code reusability (inheritance)\n",
        "Data hiding (encapsulation)\n",
        "Scalability and modularity\n",
        "Easier maintenance and debugging\n",
        "\n",
        "\n"
      ],
      "metadata": {
        "id": "I_XXHshE7z6K"
      }
    },
    {
      "cell_type": "markdown",
      "source": [
        "17. What is multiple inheritance in Python?\n",
        "\n",
        "\n",
        "Answer - A feature allowing a class to inherit from multiple parent classes, which can lead to complexity in method resolution.\n",
        "\n"
      ],
      "metadata": {
        "id": "OujjLISn7_rV"
      }
    },
    {
      "cell_type": "markdown",
      "source": [
        "18. What is the difference between a class variable and an instance variable?\n",
        "\n",
        "\n",
        "Answer - Class variable: Shared among all instances (defined outside __init__).\n",
        "Instance variable: Unique to each object (defined inside __init__)."
      ],
      "metadata": {
        "id": "F1z7yLb_8BwV"
      }
    },
    {
      "cell_type": "markdown",
      "source": [
        "19. Explain the purpose of __str__ and __repr__ methods in Python.\n",
        "\n",
        "\n",
        "Answer -\n",
        "__str__: Returns a human-readable string representation.\n",
        "__repr__: Returns an official string representation for debugging.\n"
      ],
      "metadata": {
        "id": "_CKY96Yx8Fz0"
      }
    },
    {
      "cell_type": "markdown",
      "source": [
        "20. What is the significance of the super() function in Python?\n",
        "\n",
        "\n",
        "Answer - super() allows a subclass to access methods of its parent class, useful in method overriding.\n",
        "\n"
      ],
      "metadata": {
        "id": "qQZYalFq8Gxc"
      }
    },
    {
      "cell_type": "markdown",
      "source": [
        "21. What is the significance of the __del__ method in Python?\n",
        "\n",
        "\n",
        "Answer - The destructor method, called when an object is deleted to release resources.\n",
        "\n"
      ],
      "metadata": {
        "id": "_R0RBMji8HEm"
      }
    },
    {
      "cell_type": "markdown",
      "source": [
        "22. What is the difference between @staticmethod and @classmethod in Python?\n",
        "\n",
        "\n",
        "Answer -\n",
        "@staticmethod: Does not access instance or class attributes.\n",
        "@classmethod: Works with class attributes and takes cls as a parameter.\n",
        "\n"
      ],
      "metadata": {
        "id": "O_ZzSEf-8HVA"
      }
    },
    {
      "cell_type": "markdown",
      "source": [
        "23. How does polymorphism work in Python with inheritance?\n",
        "\n",
        "\n",
        "Answer - A subclass can override a parent class method, allowing objects of different types to be treated uniformly.\n"
      ],
      "metadata": {
        "id": "cRdi8hnJ8H6I"
      }
    },
    {
      "cell_type": "markdown",
      "source": [
        "24. What is method chaining in Python OOP?\n",
        "\n",
        "\n",
        "Answer - Calling multiple methods on the same object sequentially, returning self to enable chaining.\n",
        "\n"
      ],
      "metadata": {
        "id": "C9Dwamvm8amd"
      }
    },
    {
      "cell_type": "markdown",
      "source": [
        "25. What is the purpose of the __call__ method in Python?\n",
        "\n",
        "\n",
        "Answer - It makes an instance callable like a function by defining the __call__ method."
      ],
      "metadata": {
        "id": "uDAcXvfE8cgD"
      }
    },
    {
      "cell_type": "markdown",
      "source": [
        "PRACTICAL QUESTIONS"
      ],
      "metadata": {
        "id": "VWvL2oNK8c_W"
      }
    },
    {
      "cell_type": "code",
      "source": [
        "# 1. Create a parent class Animal with a method speak() that prints a generic message. Create a child class Dog that overrides the speak() method to print \"Bark!\"\n",
        "class Animal:\n",
        "  def speak(self):\n",
        "    print(\"Animal makes a sound\")\n",
        "\n",
        "class Dog(Animal):\n",
        "  def speak(self):\n",
        "    print(\"Bark!\")\n",
        "\n",
        "d = Dog()\n",
        "d.speak()"
      ],
      "metadata": {
        "colab": {
          "base_uri": "https://localhost:8080/"
        },
        "id": "0ERYCkEVle2d",
        "outputId": "b3925f4c-5edd-4454-99bb-a453c250106a"
      },
      "execution_count": 1,
      "outputs": [
        {
          "output_type": "stream",
          "name": "stdout",
          "text": [
            "Bark!\n"
          ]
        }
      ]
    },
    {
      "cell_type": "code",
      "source": [
        "# 2. Write a program to create an abstract class Shape with a method area(). Derive classes Circle and Rectangle from it and implement the area() method in both.\n",
        "from abc import ABC, abstractmethod\n",
        "\n",
        "class Shape(ABC):\n",
        "  @abstractmethod\n",
        "  def area(self):\n",
        "    pass\n",
        "\n",
        "class Circle(Shape):\n",
        "  def __init__(self, radius):\n",
        "    self.radius =  radius\n",
        "    def area(self):\n",
        "      return 3.14 * self.radius ** 2\n",
        "\n",
        "class Rectangle(Shape):\n",
        "  def __init__(self, length, width):\n",
        "    self.length = length\n",
        "    self.width = width\n",
        "    def area(self):\n",
        "      return self.length * self.width"
      ],
      "metadata": {
        "id": "89HXwDtfmK_e"
      },
      "execution_count": 3,
      "outputs": []
    },
    {
      "cell_type": "code",
      "source": [
        "# 3.  Implement a multi-level inheritance scenario where a class Vehicle has an attribute type. Derive a class Car and further derive a class ElectricCar that adds a battery attribute\n",
        "class Vehicle:\n",
        "  def __init__(self, type):\n",
        "    self.type = type\n",
        "\n",
        "class Car(Vehicle):\n",
        "  def __init__(self, type, brand):\n",
        "    super().__init__(type)\n",
        "    self.brand = brand\n",
        "\n",
        "class ElectricCar(Car):\n",
        "  def __init__ (self, type, brand, battery):\n",
        "    super().__init__(type, brand)\n",
        "    self.battery = battery"
      ],
      "metadata": {
        "id": "zr7S976mnn87"
      },
      "execution_count": 4,
      "outputs": []
    },
    {
      "cell_type": "code",
      "source": [
        "# 4. Demonstrate polymorphism by creating a base class Bird with a method fly(). Create two derived classes Sparrow and Penguin that override the fly() method.\n",
        "class Bird:\n",
        "  def fly(self):\n",
        "    print(\"Birds can fly.\")\n",
        "\n",
        "class Sparrow(Bird):\n",
        "  def fly(self):\n",
        "    print(\"Sparrow flies high.\")\n",
        "\n",
        "class Penguin(Bird):\n",
        "  def fly(self):\n",
        "    print(\"Penguin cannot fly.\")"
      ],
      "metadata": {
        "id": "I1K7jU96oqCA"
      },
      "execution_count": 1,
      "outputs": []
    },
    {
      "cell_type": "code",
      "source": [
        "# 5. Write a program to demonstrate encapsulation by creating a class BankAccount with private attributes balance and methods to deposit, withdraw, and check balance\n",
        "class BankAccount:\n",
        "  def __init__(self, balance):\n",
        "    self.__balance = balance\n",
        "\n",
        "    def deposit(self, amount):\n",
        "      self.__balance += amount\n",
        "\n",
        "    def withdraw(self, amount):\n",
        "      if amount <= self.__balance:\n",
        "        self.__balance -= amount\n",
        "      else:\n",
        "          print(\"Insufficient balance.\")\n",
        "\n",
        "    def check_balance(self):\n",
        "      return self.__balance"
      ],
      "metadata": {
        "id": "GawpNql4XlU-"
      },
      "execution_count": 3,
      "outputs": []
    },
    {
      "cell_type": "code",
      "source": [
        "# 6.Demonstrate runtime polymorphism using a method play() in a base class Instrument. Derive classes Guitar and Piano that implement their own version of play().\n",
        "class Instrument:\n",
        "  def play(self):\n",
        "    print(\"Playing an instrument.\")\n",
        "\n",
        "class Guitar(Instrument):\n",
        "  def play(self):\n",
        "    print(\"Playing the guitar.\")\n",
        "\n",
        "class Piano(Instrument):\n",
        "  def play(self):\n",
        "    print(\"Playing the piano.\")"
      ],
      "metadata": {
        "id": "_wxdrOGMYqAy"
      },
      "execution_count": 4,
      "outputs": []
    },
    {
      "cell_type": "code",
      "source": [
        "# 7. Create a class MathOperations with a class method add_numbers() to add two numbers and a static method subtract_numbers() to subtract two numbers.\n",
        "class MathOperations:\n",
        "  @classmethod\n",
        "  def add_numbers(clas, a, b):\n",
        "    return a + b\n",
        "\n",
        "  @staticmethod\n",
        "  def subtract_members(a, b):\n",
        "    return a - b"
      ],
      "metadata": {
        "id": "XHgHauI0ZYvI"
      },
      "execution_count": 1,
      "outputs": []
    },
    {
      "cell_type": "code",
      "source": [
        "# 8. Implement a class Person with a class method to count the total number of persons created.\n",
        "class Person:\n",
        "  count = 0\n",
        "\n",
        "  def __init__(self, name):\n",
        "    self.name = name\n",
        "    Person.count += 1\n",
        "\n",
        "    @classmethod\n",
        "    def total_persons(cls):\n",
        "      return cls.count"
      ],
      "metadata": {
        "id": "16CPqKLxJ7M3"
      },
      "execution_count": 2,
      "outputs": []
    },
    {
      "cell_type": "code",
      "source": [
        "# 9. Write a class Fraction with attributes numerator and denominator. Override the str method to display the fraction as \"numerator/denominator\".\n",
        "class Fraction:\n",
        "  def __init__(self, numerator, denominator):\n",
        "    self.numerator = numerator\n",
        "    self.denominator = denominator\n",
        "\n",
        "  def __str__(self):\n",
        "    return f\"{self.numerator}/{self.denominator}\""
      ],
      "metadata": {
        "id": "20fJQutrKJMk"
      },
      "execution_count": 4,
      "outputs": []
    },
    {
      "cell_type": "code",
      "source": [
        "# 10. Demonstrate operator overloading by creating a class Vector and overriding the add method to add two vectors.\n",
        "class Vector:\n",
        "  def __init__(self, x, y):\n",
        "    self.x = x\n",
        "    self.y = y\n",
        "\n",
        "  def __add__(self, other):\n",
        "    return Vector(self.x + other.x, self.y + other.y)"
      ],
      "metadata": {
        "id": "rXbwLWgcKM-E"
      },
      "execution_count": 5,
      "outputs": []
    },
    {
      "cell_type": "code",
      "source": [
        "# 11. Create a class Person with attributes name and age. Add a method greet() that prints \"Hello, my name is {name} and I am {age} years old.\"\n",
        "class Person:\n",
        "  def __init__(self, name, age):\n",
        "    self.name = name\n",
        "    self.age = age\n",
        "\n",
        "  def greet(self):\n",
        "    print(f\"Hello, my name is {self.name} and I am {self.age} years old.\")"
      ],
      "metadata": {
        "id": "R85IBiy7KPmn"
      },
      "execution_count": 7,
      "outputs": []
    },
    {
      "cell_type": "code",
      "source": [
        "#  12. Implement a class Student with attributes name and grades. Create a method average_grade() to compute the average of the grades.\n",
        "class Student:\n",
        "  def __init__(self, name, grades):\n",
        "    self.name = name\n",
        "    self.grades = grades\n",
        "\n",
        "  def average_grade(self):\n",
        "    return sum(self.grades) / len(self.grades)"
      ],
      "metadata": {
        "id": "t3NDGo2eKRkw"
      },
      "execution_count": 8,
      "outputs": []
    },
    {
      "cell_type": "code",
      "source": [
        "# 13. Create a class Rectangle with methods set_dimensions() to set the dimensions and area() to calculate the area.\n",
        "class Rectangle:\n",
        "  def __init__(self):\n",
        "    self.length = 0\n",
        "    self.width = 0\n",
        "\n",
        "  def set_dimensions(self, length, width):\n",
        "    self.length = length\n",
        "    self.width = width\n",
        "\n",
        "  def area(self):\n",
        "    return self.length * self.width"
      ],
      "metadata": {
        "id": "yiZCvT5EKXCh"
      },
      "execution_count": 9,
      "outputs": []
    },
    {
      "cell_type": "code",
      "source": [
        "# 14. Create a class Employee with a method calculate_salary() that computes the salary based on hours worked and hourly rate. Create a derived class Manager that adds a bonus to the salary\n",
        "class Employee:\n",
        "  def __init__(self, hours_worked, hourly_rate):\n",
        "    self.hours_worked = hours_worked\n",
        "    self.hourly_rate = hourly_rate\n",
        "\n",
        "  def calculate_salary(self):\n",
        "    return self.hours_worked * self.hourly_rate\n",
        "\n",
        "class Manager(Employee):\n",
        "  def __init__(self, hours_worked, hourly_rate, bonus):\n",
        "    super().__init__(hours_worked, hourly_rate)\n",
        "    self.bonus = bonus\n",
        "\n",
        "  def calculate_salary(self):\n",
        "    return super().calculate_salary() + self.bonus"
      ],
      "metadata": {
        "id": "07Pe7hTEKZ6w"
      },
      "execution_count": 10,
      "outputs": []
    },
    {
      "cell_type": "code",
      "source": [
        "# 15. Create a class Product with attributes name, price, and quantity. Implement a method total_price() that calculates the total price of the product.\n",
        "class Product:\n",
        "  def __init__(self, name, price, quantity):\n",
        "    self.name = name\n",
        "    self.price = price\n",
        "    self.quantity = quantity\n",
        "\n",
        "  def total_price(self):\n",
        "    return self.price * self.quantity"
      ],
      "metadata": {
        "id": "xpPxb1nsO4rr"
      },
      "execution_count": 1,
      "outputs": []
    },
    {
      "cell_type": "code",
      "source": [
        "# 16. Create a class Animal with an abstract method sound(). Create two derived classes Cow and Sheep that implement the sound() method.\n",
        "from abc import ABC, abstractmethod\n",
        "\n",
        "class Animal(ABC):\n",
        "  @abstractmethod\n",
        "  def sound(self):\n",
        "    pass\n",
        "\n",
        "class Cow(Animal):\n",
        "  def sound(self):\n",
        "    print(\"Moo!\")\n",
        "\n",
        "class Sheep(Animal):\n",
        "  def sound(self):\n",
        "    print(\"Baa!\")\n",
        "\n",
        "# EXAMPLE USAGE\n",
        "cow = Cow()\n",
        "sheep = Sheep()\n",
        "cow.sound()\n",
        "sheep.sound()"
      ],
      "metadata": {
        "colab": {
          "base_uri": "https://localhost:8080/"
        },
        "id": "1CZrQH9RO-gT",
        "outputId": "17f4ad9a-eef9-4a29-e360-62eeb8f6272e"
      },
      "execution_count": 4,
      "outputs": [
        {
          "output_type": "stream",
          "name": "stdout",
          "text": [
            "Moo!\n",
            "Baa!\n"
          ]
        }
      ]
    },
    {
      "cell_type": "code",
      "source": [
        "# 17. Create a class Book with attributes title, author, and year_published. Add a method get_book_info() that returns a formatted string with the book's details.\n",
        "class Book:\n",
        "  def __init__(self, title, author, year_published):\n",
        "    self.title = title\n",
        "    self.author = author\n",
        "    self.year_published = year_published\n",
        "\n",
        "  def get_book_info(self):\n",
        "    return f\"'{self.title}' by {self.author}, published in {self.year_published}\""
      ],
      "metadata": {
        "id": "odvo_lX5PCsk"
      },
      "execution_count": 5,
      "outputs": []
    },
    {
      "cell_type": "code",
      "source": [
        "# 18. Create a class House with attributes address and price. Create a derived class Mansion that adds an attribute number_of_rooms.\n",
        "class House:\n",
        "  def __init__(self, address, price):\n",
        "    self.address = address\n",
        "    self.price = price\n",
        "\n",
        "class Mansion(House):\n",
        "  def __init__(self, address, price, number_of_rooms):\n",
        "    super().__init__(address, price)\n",
        "    self.number_of_rooms = number_of_rooms"
      ],
      "metadata": {
        "id": "_p0mG3AaPGw8"
      },
      "execution_count": 6,
      "outputs": []
    }
  ]
}